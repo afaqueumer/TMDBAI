{
 "cells": [
  {
   "cell_type": "code",
   "execution_count": 7,
   "id": "8243149d",
   "metadata": {},
   "outputs": [],
   "source": [
    "import pandas as pd\n",
    "import numpy as np"
   ]
  },
  {
   "cell_type": "code",
   "execution_count": 8,
   "id": "f2011418",
   "metadata": {},
   "outputs": [],
   "source": [
    "df_cred = pd.read_csv(\"../data/tmdb_5000_credits.csv\")\n",
    "df_mov = pd.read_csv(\"../data/tmdb_5000_movies.csv\")"
   ]
  },
  {
   "cell_type": "code",
   "execution_count": 9,
   "id": "2b191cdc",
   "metadata": {},
   "outputs": [
    {
     "data": {
      "text/plain": [
       "((4803, 4), (4803, 20))"
      ]
     },
     "execution_count": 9,
     "metadata": {},
     "output_type": "execute_result"
    }
   ],
   "source": [
    "df_cred.shape, df_mov.shape"
   ]
  },
  {
   "cell_type": "code",
   "execution_count": 10,
   "id": "c5308dcd",
   "metadata": {},
   "outputs": [],
   "source": [
    "df_cred = df_cred.iloc[:3500,:]\n",
    "df_mov = df_mov.iloc[:3500, :]"
   ]
  },
  {
   "cell_type": "code",
   "execution_count": 11,
   "id": "904fafab",
   "metadata": {},
   "outputs": [
    {
     "data": {
      "text/plain": [
       "((3500, 4), (3500, 20))"
      ]
     },
     "execution_count": 11,
     "metadata": {},
     "output_type": "execute_result"
    }
   ],
   "source": [
    "df_cred.shape, df_mov.shape"
   ]
  },
  {
   "cell_type": "code",
   "execution_count": 12,
   "id": "2ed54885",
   "metadata": {},
   "outputs": [],
   "source": [
    "df_cred.rename(columns = {'movie_id':'id'}, inplace = True)"
   ]
  },
  {
   "cell_type": "code",
   "execution_count": 13,
   "id": "4eae6458",
   "metadata": {},
   "outputs": [
    {
     "data": {
      "text/html": [
       "<div>\n",
       "<style scoped>\n",
       "    .dataframe tbody tr th:only-of-type {\n",
       "        vertical-align: middle;\n",
       "    }\n",
       "\n",
       "    .dataframe tbody tr th {\n",
       "        vertical-align: top;\n",
       "    }\n",
       "\n",
       "    .dataframe thead th {\n",
       "        text-align: right;\n",
       "    }\n",
       "</style>\n",
       "<table border=\"1\" class=\"dataframe\">\n",
       "  <thead>\n",
       "    <tr style=\"text-align: right;\">\n",
       "      <th></th>\n",
       "      <th>id</th>\n",
       "      <th>title_x</th>\n",
       "      <th>cast</th>\n",
       "      <th>crew</th>\n",
       "      <th>budget</th>\n",
       "      <th>genres</th>\n",
       "      <th>homepage</th>\n",
       "      <th>keywords</th>\n",
       "      <th>original_language</th>\n",
       "      <th>original_title</th>\n",
       "      <th>...</th>\n",
       "      <th>production_countries</th>\n",
       "      <th>release_date</th>\n",
       "      <th>revenue</th>\n",
       "      <th>runtime</th>\n",
       "      <th>spoken_languages</th>\n",
       "      <th>status</th>\n",
       "      <th>tagline</th>\n",
       "      <th>title_y</th>\n",
       "      <th>vote_average</th>\n",
       "      <th>vote_count</th>\n",
       "    </tr>\n",
       "  </thead>\n",
       "  <tbody>\n",
       "    <tr>\n",
       "      <th>0</th>\n",
       "      <td>19995</td>\n",
       "      <td>Avatar</td>\n",
       "      <td>[{\"cast_id\": 242, \"character\": \"Jake Sully\", \"...</td>\n",
       "      <td>[{\"credit_id\": \"52fe48009251416c750aca23\", \"de...</td>\n",
       "      <td>237000000</td>\n",
       "      <td>[{\"id\": 28, \"name\": \"Action\"}, {\"id\": 12, \"nam...</td>\n",
       "      <td>http://www.avatarmovie.com/</td>\n",
       "      <td>[{\"id\": 1463, \"name\": \"culture clash\"}, {\"id\":...</td>\n",
       "      <td>en</td>\n",
       "      <td>Avatar</td>\n",
       "      <td>...</td>\n",
       "      <td>[{\"iso_3166_1\": \"US\", \"name\": \"United States o...</td>\n",
       "      <td>2009-12-10</td>\n",
       "      <td>2787965087</td>\n",
       "      <td>162.0</td>\n",
       "      <td>[{\"iso_639_1\": \"en\", \"name\": \"English\"}, {\"iso...</td>\n",
       "      <td>Released</td>\n",
       "      <td>Enter the World of Pandora.</td>\n",
       "      <td>Avatar</td>\n",
       "      <td>7.2</td>\n",
       "      <td>11800</td>\n",
       "    </tr>\n",
       "  </tbody>\n",
       "</table>\n",
       "<p>1 rows × 23 columns</p>\n",
       "</div>"
      ],
      "text/plain": [
       "      id title_x                                               cast  \\\n",
       "0  19995  Avatar  [{\"cast_id\": 242, \"character\": \"Jake Sully\", \"...   \n",
       "\n",
       "                                                crew     budget  \\\n",
       "0  [{\"credit_id\": \"52fe48009251416c750aca23\", \"de...  237000000   \n",
       "\n",
       "                                              genres  \\\n",
       "0  [{\"id\": 28, \"name\": \"Action\"}, {\"id\": 12, \"nam...   \n",
       "\n",
       "                      homepage  \\\n",
       "0  http://www.avatarmovie.com/   \n",
       "\n",
       "                                            keywords original_language  \\\n",
       "0  [{\"id\": 1463, \"name\": \"culture clash\"}, {\"id\":...                en   \n",
       "\n",
       "  original_title  ...                               production_countries  \\\n",
       "0         Avatar  ...  [{\"iso_3166_1\": \"US\", \"name\": \"United States o...   \n",
       "\n",
       "   release_date     revenue runtime  \\\n",
       "0    2009-12-10  2787965087   162.0   \n",
       "\n",
       "                                    spoken_languages    status  \\\n",
       "0  [{\"iso_639_1\": \"en\", \"name\": \"English\"}, {\"iso...  Released   \n",
       "\n",
       "                       tagline title_y vote_average vote_count  \n",
       "0  Enter the World of Pandora.  Avatar          7.2      11800  \n",
       "\n",
       "[1 rows x 23 columns]"
      ]
     },
     "execution_count": 13,
     "metadata": {},
     "output_type": "execute_result"
    }
   ],
   "source": [
    "df = df_cred.merge(df_mov, on='id')\n",
    "df.head(1)"
   ]
  },
  {
   "cell_type": "code",
   "execution_count": 14,
   "id": "61a483a0",
   "metadata": {},
   "outputs": [
    {
     "name": "stdout",
     "output_type": "stream",
     "text": [
      "<class 'pandas.core.frame.DataFrame'>\n",
      "RangeIndex: 3500 entries, 0 to 3499\n",
      "Data columns (total 23 columns):\n",
      " #   Column                Non-Null Count  Dtype  \n",
      "---  ------                --------------  -----  \n",
      " 0   id                    3500 non-null   int64  \n",
      " 1   title_x               3500 non-null   object \n",
      " 2   cast                  3500 non-null   object \n",
      " 3   crew                  3500 non-null   object \n",
      " 4   budget                3500 non-null   int64  \n",
      " 5   genres                3500 non-null   object \n",
      " 6   homepage              1337 non-null   object \n",
      " 7   keywords              3500 non-null   object \n",
      " 8   original_language     3500 non-null   object \n",
      " 9   original_title        3500 non-null   object \n",
      " 10  overview              3499 non-null   object \n",
      " 11  popularity            3500 non-null   float64\n",
      " 12  production_companies  3500 non-null   object \n",
      " 13  production_countries  3500 non-null   object \n",
      " 14  release_date          3500 non-null   object \n",
      " 15  revenue               3500 non-null   int64  \n",
      " 16  runtime               3499 non-null   float64\n",
      " 17  spoken_languages      3500 non-null   object \n",
      " 18  status                3500 non-null   object \n",
      " 19  tagline               3093 non-null   object \n",
      " 20  title_y               3500 non-null   object \n",
      " 21  vote_average          3500 non-null   float64\n",
      " 22  vote_count            3500 non-null   int64  \n",
      "dtypes: float64(3), int64(4), object(16)\n",
      "memory usage: 629.0+ KB\n"
     ]
    }
   ],
   "source": [
    "df.info()"
   ]
  },
  {
   "cell_type": "code",
   "execution_count": 15,
   "id": "9adfb237",
   "metadata": {},
   "outputs": [],
   "source": [
    "df.dropna(subset = ['overview'], inplace=True)"
   ]
  },
  {
   "cell_type": "code",
   "execution_count": 16,
   "id": "aa8e037e",
   "metadata": {},
   "outputs": [
    {
     "name": "stdout",
     "output_type": "stream",
     "text": [
      "<class 'pandas.core.frame.DataFrame'>\n",
      "Index: 3499 entries, 0 to 3499\n",
      "Data columns (total 23 columns):\n",
      " #   Column                Non-Null Count  Dtype  \n",
      "---  ------                --------------  -----  \n",
      " 0   id                    3499 non-null   int64  \n",
      " 1   title_x               3499 non-null   object \n",
      " 2   cast                  3499 non-null   object \n",
      " 3   crew                  3499 non-null   object \n",
      " 4   budget                3499 non-null   int64  \n",
      " 5   genres                3499 non-null   object \n",
      " 6   homepage              1337 non-null   object \n",
      " 7   keywords              3499 non-null   object \n",
      " 8   original_language     3499 non-null   object \n",
      " 9   original_title        3499 non-null   object \n",
      " 10  overview              3499 non-null   object \n",
      " 11  popularity            3499 non-null   float64\n",
      " 12  production_companies  3499 non-null   object \n",
      " 13  production_countries  3499 non-null   object \n",
      " 14  release_date          3499 non-null   object \n",
      " 15  revenue               3499 non-null   int64  \n",
      " 16  runtime               3499 non-null   float64\n",
      " 17  spoken_languages      3499 non-null   object \n",
      " 18  status                3499 non-null   object \n",
      " 19  tagline               3093 non-null   object \n",
      " 20  title_y               3499 non-null   object \n",
      " 21  vote_average          3499 non-null   float64\n",
      " 22  vote_count            3499 non-null   int64  \n",
      "dtypes: float64(3), int64(4), object(16)\n",
      "memory usage: 656.1+ KB\n"
     ]
    }
   ],
   "source": [
    "df.info()"
   ]
  },
  {
   "cell_type": "code",
   "execution_count": 17,
   "id": "3b786088",
   "metadata": {},
   "outputs": [],
   "source": [
    "df = df[['id', 'title_x', 'genres', 'overview', 'cast', 'crew']]"
   ]
  },
  {
   "cell_type": "code",
   "execution_count": 18,
   "id": "f89dacbe",
   "metadata": {},
   "outputs": [
    {
     "name": "stdout",
     "output_type": "stream",
     "text": [
      "<class 'pandas.core.frame.DataFrame'>\n",
      "Index: 3499 entries, 0 to 3499\n",
      "Data columns (total 6 columns):\n",
      " #   Column    Non-Null Count  Dtype \n",
      "---  ------    --------------  ----- \n",
      " 0   id        3499 non-null   int64 \n",
      " 1   title_x   3499 non-null   object\n",
      " 2   genres    3499 non-null   object\n",
      " 3   overview  3499 non-null   object\n",
      " 4   cast      3499 non-null   object\n",
      " 5   crew      3499 non-null   object\n",
      "dtypes: int64(1), object(5)\n",
      "memory usage: 191.4+ KB\n"
     ]
    }
   ],
   "source": [
    "df.info()"
   ]
  },
  {
   "cell_type": "code",
   "execution_count": 19,
   "id": "394c17e2",
   "metadata": {},
   "outputs": [
    {
     "data": {
      "text/html": [
       "<div>\n",
       "<style scoped>\n",
       "    .dataframe tbody tr th:only-of-type {\n",
       "        vertical-align: middle;\n",
       "    }\n",
       "\n",
       "    .dataframe tbody tr th {\n",
       "        vertical-align: top;\n",
       "    }\n",
       "\n",
       "    .dataframe thead th {\n",
       "        text-align: right;\n",
       "    }\n",
       "</style>\n",
       "<table border=\"1\" class=\"dataframe\">\n",
       "  <thead>\n",
       "    <tr style=\"text-align: right;\">\n",
       "      <th></th>\n",
       "      <th>id</th>\n",
       "      <th>title_x</th>\n",
       "      <th>genres</th>\n",
       "      <th>overview</th>\n",
       "      <th>cast</th>\n",
       "      <th>crew</th>\n",
       "    </tr>\n",
       "  </thead>\n",
       "  <tbody>\n",
       "    <tr>\n",
       "      <th>0</th>\n",
       "      <td>19995</td>\n",
       "      <td>Avatar</td>\n",
       "      <td>[{\"id\": 28, \"name\": \"Action\"}, {\"id\": 12, \"nam...</td>\n",
       "      <td>In the 22nd century, a paraplegic Marine is di...</td>\n",
       "      <td>[{\"cast_id\": 242, \"character\": \"Jake Sully\", \"...</td>\n",
       "      <td>[{\"credit_id\": \"52fe48009251416c750aca23\", \"de...</td>\n",
       "    </tr>\n",
       "    <tr>\n",
       "      <th>1</th>\n",
       "      <td>285</td>\n",
       "      <td>Pirates of the Caribbean: At World's End</td>\n",
       "      <td>[{\"id\": 12, \"name\": \"Adventure\"}, {\"id\": 14, \"...</td>\n",
       "      <td>Captain Barbossa, long believed to be dead, ha...</td>\n",
       "      <td>[{\"cast_id\": 4, \"character\": \"Captain Jack Spa...</td>\n",
       "      <td>[{\"credit_id\": \"52fe4232c3a36847f800b579\", \"de...</td>\n",
       "    </tr>\n",
       "    <tr>\n",
       "      <th>2</th>\n",
       "      <td>206647</td>\n",
       "      <td>Spectre</td>\n",
       "      <td>[{\"id\": 28, \"name\": \"Action\"}, {\"id\": 12, \"nam...</td>\n",
       "      <td>A cryptic message from Bond’s past sends him o...</td>\n",
       "      <td>[{\"cast_id\": 1, \"character\": \"James Bond\", \"cr...</td>\n",
       "      <td>[{\"credit_id\": \"54805967c3a36829b5002c41\", \"de...</td>\n",
       "    </tr>\n",
       "    <tr>\n",
       "      <th>3</th>\n",
       "      <td>49026</td>\n",
       "      <td>The Dark Knight Rises</td>\n",
       "      <td>[{\"id\": 28, \"name\": \"Action\"}, {\"id\": 80, \"nam...</td>\n",
       "      <td>Following the death of District Attorney Harve...</td>\n",
       "      <td>[{\"cast_id\": 2, \"character\": \"Bruce Wayne / Ba...</td>\n",
       "      <td>[{\"credit_id\": \"52fe4781c3a36847f81398c3\", \"de...</td>\n",
       "    </tr>\n",
       "    <tr>\n",
       "      <th>4</th>\n",
       "      <td>49529</td>\n",
       "      <td>John Carter</td>\n",
       "      <td>[{\"id\": 28, \"name\": \"Action\"}, {\"id\": 12, \"nam...</td>\n",
       "      <td>John Carter is a war-weary, former military ca...</td>\n",
       "      <td>[{\"cast_id\": 5, \"character\": \"John Carter\", \"c...</td>\n",
       "      <td>[{\"credit_id\": \"52fe479ac3a36847f813eaa3\", \"de...</td>\n",
       "    </tr>\n",
       "  </tbody>\n",
       "</table>\n",
       "</div>"
      ],
      "text/plain": [
       "       id                                   title_x  \\\n",
       "0   19995                                    Avatar   \n",
       "1     285  Pirates of the Caribbean: At World's End   \n",
       "2  206647                                   Spectre   \n",
       "3   49026                     The Dark Knight Rises   \n",
       "4   49529                               John Carter   \n",
       "\n",
       "                                              genres  \\\n",
       "0  [{\"id\": 28, \"name\": \"Action\"}, {\"id\": 12, \"nam...   \n",
       "1  [{\"id\": 12, \"name\": \"Adventure\"}, {\"id\": 14, \"...   \n",
       "2  [{\"id\": 28, \"name\": \"Action\"}, {\"id\": 12, \"nam...   \n",
       "3  [{\"id\": 28, \"name\": \"Action\"}, {\"id\": 80, \"nam...   \n",
       "4  [{\"id\": 28, \"name\": \"Action\"}, {\"id\": 12, \"nam...   \n",
       "\n",
       "                                            overview  \\\n",
       "0  In the 22nd century, a paraplegic Marine is di...   \n",
       "1  Captain Barbossa, long believed to be dead, ha...   \n",
       "2  A cryptic message from Bond’s past sends him o...   \n",
       "3  Following the death of District Attorney Harve...   \n",
       "4  John Carter is a war-weary, former military ca...   \n",
       "\n",
       "                                                cast  \\\n",
       "0  [{\"cast_id\": 242, \"character\": \"Jake Sully\", \"...   \n",
       "1  [{\"cast_id\": 4, \"character\": \"Captain Jack Spa...   \n",
       "2  [{\"cast_id\": 1, \"character\": \"James Bond\", \"cr...   \n",
       "3  [{\"cast_id\": 2, \"character\": \"Bruce Wayne / Ba...   \n",
       "4  [{\"cast_id\": 5, \"character\": \"John Carter\", \"c...   \n",
       "\n",
       "                                                crew  \n",
       "0  [{\"credit_id\": \"52fe48009251416c750aca23\", \"de...  \n",
       "1  [{\"credit_id\": \"52fe4232c3a36847f800b579\", \"de...  \n",
       "2  [{\"credit_id\": \"54805967c3a36829b5002c41\", \"de...  \n",
       "3  [{\"credit_id\": \"52fe4781c3a36847f81398c3\", \"de...  \n",
       "4  [{\"credit_id\": \"52fe479ac3a36847f813eaa3\", \"de...  "
      ]
     },
     "execution_count": 19,
     "metadata": {},
     "output_type": "execute_result"
    }
   ],
   "source": [
    "df.head(5)"
   ]
  },
  {
   "attachments": {},
   "cell_type": "markdown",
   "id": "5d162ba5",
   "metadata": {},
   "source": [
    "### Generating Corpus"
   ]
  },
  {
   "cell_type": "code",
   "execution_count": 20,
   "id": "20a911ab",
   "metadata": {},
   "outputs": [],
   "source": [
    "def generate_corpus(overview, genre, cast, crew):\n",
    "    \n",
    "    corpus = \"\"\n",
    "    \n",
    "    genre = ' '.join([i['name'] for i in eval(genre)])\n",
    "    \n",
    "    cast = ' '.join([i['name'] for i in eval(cast)[:5]])\n",
    "       \n",
    "    crew = ' '.join(list(set([i['name'] for i in eval(crew) if i['job']=='Director' or i['job']=='Producer'])))\n",
    "    \n",
    "    corpus+= overview + \" \" + genre + \" \" + cast + \" \" + crew\n",
    "    \n",
    "    return corpus"
   ]
  },
  {
   "cell_type": "code",
   "execution_count": 21,
   "id": "120ea23e",
   "metadata": {},
   "outputs": [],
   "source": [
    "corpus = []\n",
    "for i in range(len(df)):\n",
    "    corpus.append(generate_corpus(df.iloc[i].overview, df.iloc[i].genres, df.iloc[i].cast, df.iloc[i].crew))"
   ]
  },
  {
   "cell_type": "code",
   "execution_count": 22,
   "id": "2a925c31",
   "metadata": {},
   "outputs": [
    {
     "data": {
      "text/plain": [
       "3499"
      ]
     },
     "execution_count": 22,
     "metadata": {},
     "output_type": "execute_result"
    }
   ],
   "source": [
    "len(corpus)"
   ]
  },
  {
   "cell_type": "code",
   "execution_count": 23,
   "id": "56323c33",
   "metadata": {},
   "outputs": [],
   "source": [
    "df.rename(columns = {'title_x':'title'}, inplace = True)"
   ]
  },
  {
   "cell_type": "code",
   "execution_count": 24,
   "id": "62ecc058",
   "metadata": {},
   "outputs": [],
   "source": [
    "df['corpus'] = corpus"
   ]
  },
  {
   "attachments": {},
   "cell_type": "markdown",
   "id": "1675b2ad",
   "metadata": {},
   "source": [
    "--"
   ]
  },
  {
   "cell_type": "code",
   "execution_count": 25,
   "id": "e48ba80e",
   "metadata": {},
   "outputs": [],
   "source": [
    "from sklearn.feature_extraction.text import TfidfVectorizer\n",
    "from sklearn.metrics.pairwise import cosine_similarity"
   ]
  },
  {
   "cell_type": "code",
   "execution_count": 26,
   "id": "2be8f88c",
   "metadata": {},
   "outputs": [],
   "source": [
    "tfidf = TfidfVectorizer(stop_words='english')"
   ]
  },
  {
   "cell_type": "code",
   "execution_count": 27,
   "id": "a1d13284",
   "metadata": {},
   "outputs": [],
   "source": [
    "tfidf_matrix = tfidf.fit_transform(df['corpus'])"
   ]
  },
  {
   "cell_type": "code",
   "execution_count": 28,
   "id": "1f039e38",
   "metadata": {},
   "outputs": [
    {
     "data": {
      "text/plain": [
       "(3499, 25114)"
      ]
     },
     "execution_count": 28,
     "metadata": {},
     "output_type": "execute_result"
    }
   ],
   "source": [
    "tfidf_matrix.shape"
   ]
  },
  {
   "cell_type": "code",
   "execution_count": 29,
   "id": "08e5fd8b",
   "metadata": {},
   "outputs": [],
   "source": [
    "from sklearn.metrics.pairwise import linear_kernel"
   ]
  },
  {
   "cell_type": "code",
   "execution_count": 30,
   "id": "0c38e436",
   "metadata": {},
   "outputs": [],
   "source": [
    "cos_mat = linear_kernel(tfidf_matrix, tfidf_matrix)"
   ]
  },
  {
   "cell_type": "code",
   "execution_count": 31,
   "id": "40434b3f",
   "metadata": {},
   "outputs": [
    {
     "data": {
      "text/plain": [
       "(3499, 3499)"
      ]
     },
     "execution_count": 31,
     "metadata": {},
     "output_type": "execute_result"
    }
   ],
   "source": [
    "cos_mat.shape"
   ]
  },
  {
   "cell_type": "code",
   "execution_count": 32,
   "id": "65f60d6a",
   "metadata": {},
   "outputs": [],
   "source": [
    "def get_recommendations(movie, n):\n",
    "    \n",
    "    # get index from dataframe\n",
    "    index = df[df['title']== movie].index[0]\n",
    "    \n",
    "    # sort top n similar movies     \n",
    "    similar_movies = sorted(list(enumerate(cos_mat[index])), reverse=True, key=lambda x: x[1]) \n",
    "    \n",
    "    # extract names from dataframe and return movie names\n",
    "    recomm = []\n",
    "    for i in similar_movies[1:n+1]:\n",
    "        recomm.append(df.iloc[i[0]].title)\n",
    "        \n",
    "    return recomm"
   ]
  },
  {
   "cell_type": "code",
   "execution_count": 33,
   "id": "cbe9026b",
   "metadata": {},
   "outputs": [
    {
     "data": {
      "text/plain": [
       "['The Dark Knight', 'The Dark Knight Rises', 'The Prestige']"
      ]
     },
     "execution_count": 33,
     "metadata": {},
     "output_type": "execute_result"
    }
   ],
   "source": [
    "get_recommendations(\"Batman Begins\", 3)"
   ]
  },
  {
   "cell_type": "code",
   "execution_count": 34,
   "id": "e741244c",
   "metadata": {},
   "outputs": [
    {
     "data": {
      "text/plain": [
       "['Mission: Impossible III',\n",
       " 'Mission: Impossible II',\n",
       " 'Mission: Impossible - Ghost Protocol']"
      ]
     },
     "execution_count": 34,
     "metadata": {},
     "output_type": "execute_result"
    }
   ],
   "source": [
    "get_recommendations(\"Mission: Impossible\", 3)"
   ]
  },
  {
   "cell_type": "code",
   "execution_count": 35,
   "id": "19bb9ddf",
   "metadata": {},
   "outputs": [],
   "source": [
    "def get_keywords_recommendations(keywords, n):\n",
    "    \n",
    "    keywords = keywords.split()\n",
    "    keywords = \" \".join(keywords)\n",
    "    \n",
    "    # transform the string to vector representation\n",
    "    key_tfidf = tfidf.transform([keywords]) \n",
    "    \n",
    "    # compute cosine similarity    \n",
    "    result = cosine_similarity(key_tfidf, tfidf_matrix)\n",
    "    \n",
    "    \n",
    "  \n",
    "    # sort top n similar movies   \n",
    "    similar_key_movies = sorted(list(enumerate(result[0])), reverse=True, key=lambda x: x[1])\n",
    "    \n",
    "    # extract names from dataframe and return movie names\n",
    "    recomm = []\n",
    "    for i in similar_key_movies[1:n+1]:\n",
    "        recomm.append(df.iloc[i[0]].title)\n",
    "        \n",
    "    return recomm"
   ]
  },
  {
   "cell_type": "code",
   "execution_count": 36,
   "id": "7efd974f",
   "metadata": {},
   "outputs": [
    {
     "data": {
      "text/plain": [
       "['Scary Movie 4', 'Action Jackson', 'Dream House', 'Layer Cake']"
      ]
     },
     "execution_count": 36,
     "metadata": {},
     "output_type": "execute_result"
    }
   ],
   "source": [
    "get_keywords_recommendations(\"Daniel Craig\", 4)"
   ]
  },
  {
   "cell_type": "code",
   "execution_count": 37,
   "id": "31d0c67e",
   "metadata": {},
   "outputs": [
    {
     "data": {
      "text/plain": [
       "['Insomnia', 'Man of Steel', 'Batman Begins', 'Interstellar']"
      ]
     },
     "execution_count": 37,
     "metadata": {},
     "output_type": "execute_result"
    }
   ],
   "source": [
    "get_keywords_recommendations(\"Christopher Nolan\", 4)"
   ]
  },
  {
   "cell_type": "code",
   "execution_count": 38,
   "id": "076fe419",
   "metadata": {},
   "outputs": [],
   "source": [
    "import joblib"
   ]
  },
  {
   "cell_type": "code",
   "execution_count": 39,
   "id": "ca92801e",
   "metadata": {},
   "outputs": [
    {
     "data": {
      "text/plain": [
       "(3499, 7)"
      ]
     },
     "execution_count": 39,
     "metadata": {},
     "output_type": "execute_result"
    }
   ],
   "source": [
    "df.shape"
   ]
  },
  {
   "cell_type": "code",
   "execution_count": 40,
   "id": "2fad2d05",
   "metadata": {},
   "outputs": [
    {
     "data": {
      "text/plain": [
       "(3499, 3499)"
      ]
     },
     "execution_count": 40,
     "metadata": {},
     "output_type": "execute_result"
    }
   ],
   "source": [
    "cos_mat.shape"
   ]
  },
  {
   "cell_type": "code",
   "execution_count": 41,
   "id": "da30142f",
   "metadata": {},
   "outputs": [
    {
     "data": {
      "text/plain": [
       "(3499, 25114)"
      ]
     },
     "execution_count": 41,
     "metadata": {},
     "output_type": "execute_result"
    }
   ],
   "source": [
    "tfidf_matrix.shape"
   ]
  },
  {
   "cell_type": "code",
   "execution_count": 43,
   "id": "a432af0a",
   "metadata": {},
   "outputs": [
    {
     "data": {
      "text/plain": [
       "['../models/tfidf_mat.tf']"
      ]
     },
     "execution_count": 43,
     "metadata": {},
     "output_type": "execute_result"
    }
   ],
   "source": [
    "joblib.dump(df, '../models/movie_db.df')\n",
    "joblib.dump(cos_mat, '../models/cos_mat.mt')\n",
    "joblib.dump(tfidf, '../models/vectorizer.tf')\n",
    "joblib.dump(tfidf_matrix, '../models/tfidf_mat.tf')"
   ]
  }
 ],
 "metadata": {
  "kernelspec": {
   "display_name": "Python 3 (ipykernel)",
   "language": "python",
   "name": "python3"
  },
  "language_info": {
   "codemirror_mode": {
    "name": "ipython",
    "version": 3
   },
   "file_extension": ".py",
   "mimetype": "text/x-python",
   "name": "python",
   "nbconvert_exporter": "python",
   "pygments_lexer": "ipython3",
   "version": "3.9.13"
  }
 },
 "nbformat": 4,
 "nbformat_minor": 5
}
